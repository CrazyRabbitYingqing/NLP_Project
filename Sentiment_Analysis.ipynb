{
 "cells": [
  {
   "cell_type": "markdown",
   "id": "be592069",
   "metadata": {},
   "source": [
    "### Sentiment Analysis (Some commands are copied from Metis data science bootcamp teaching material)"
   ]
  },
  {
   "cell_type": "code",
   "execution_count": 2,
   "id": "e41f6bdf",
   "metadata": {},
   "outputs": [
    {
     "data": {
      "text/html": [
       "<div>\n",
       "<style scoped>\n",
       "    .dataframe tbody tr th:only-of-type {\n",
       "        vertical-align: middle;\n",
       "    }\n",
       "\n",
       "    .dataframe tbody tr th {\n",
       "        vertical-align: top;\n",
       "    }\n",
       "\n",
       "    .dataframe thead th {\n",
       "        text-align: right;\n",
       "    }\n",
       "</style>\n",
       "<table border=\"1\" class=\"dataframe\">\n",
       "  <thead>\n",
       "    <tr style=\"text-align: right;\">\n",
       "      <th></th>\n",
       "      <th>Unnamed: 0</th>\n",
       "      <th>TweetAt</th>\n",
       "      <th>OriginalTweet</th>\n",
       "      <th>Sentiment</th>\n",
       "    </tr>\n",
       "  </thead>\n",
       "  <tbody>\n",
       "    <tr>\n",
       "      <th>0</th>\n",
       "      <td>1</td>\n",
       "      <td>16-03-2020</td>\n",
       "      <td>advice talk family exchange phone create conta...</td>\n",
       "      <td>Positive</td>\n",
       "    </tr>\n",
       "    <tr>\n",
       "      <th>1</th>\n",
       "      <td>2</td>\n",
       "      <td>16-03-2020</td>\n",
       "      <td>give elderly disabled shopping amid covid outb...</td>\n",
       "      <td>Positive</td>\n",
       "    </tr>\n",
       "    <tr>\n",
       "      <th>2</th>\n",
       "      <td>5</td>\n",
       "      <td>16-03-2020</td>\n",
       "      <td>news first confirmed covid case came county la...</td>\n",
       "      <td>Positive</td>\n",
       "    </tr>\n",
       "    <tr>\n",
       "      <th>3</th>\n",
       "      <td>6</td>\n",
       "      <td>16-03-2020</td>\n",
       "      <td>cashier grocery store prove credibility civics...</td>\n",
       "      <td>Positive</td>\n",
       "    </tr>\n",
       "    <tr>\n",
       "      <th>4</th>\n",
       "      <td>7</td>\n",
       "      <td>16-03-2020</td>\n",
       "      <td>supermarket today buy toilet paper</td>\n",
       "      <td>Neutral</td>\n",
       "    </tr>\n",
       "  </tbody>\n",
       "</table>\n",
       "</div>"
      ],
      "text/plain": [
       "   Unnamed: 0     TweetAt                                      OriginalTweet  \\\n",
       "0           1  16-03-2020  advice talk family exchange phone create conta...   \n",
       "1           2  16-03-2020  give elderly disabled shopping amid covid outb...   \n",
       "2           5  16-03-2020  news first confirmed covid case came county la...   \n",
       "3           6  16-03-2020  cashier grocery store prove credibility civics...   \n",
       "4           7  16-03-2020                 supermarket today buy toilet paper   \n",
       "\n",
       "  Sentiment  \n",
       "0  Positive  \n",
       "1  Positive  \n",
       "2  Positive  \n",
       "3  Positive  \n",
       "4   Neutral  "
      ]
     },
     "execution_count": 2,
     "metadata": {},
     "output_type": "execute_result"
    }
   ],
   "source": [
    "import pandas as pd\n",
    "#pd.set_option('display.max_colwidth', None)\n",
    "\n",
    "data = pd.read_csv('data/data_s.txt')\n",
    "data.head()"
   ]
  },
  {
   "cell_type": "code",
   "execution_count": 3,
   "id": "db02d094",
   "metadata": {},
   "outputs": [
    {
     "name": "stdout",
     "output_type": "stream",
     "text": [
      "Requirement already satisfied: vaderSentiment in /home/yingqing/anaconda3/envs/metis/lib/python3.9/site-packages (3.3.2)\r\n",
      "Requirement already satisfied: requests in /home/yingqing/anaconda3/envs/metis/lib/python3.9/site-packages (from vaderSentiment) (2.26.0)\r\n",
      "Requirement already satisfied: charset-normalizer~=2.0.0 in /home/yingqing/anaconda3/envs/metis/lib/python3.9/site-packages (from requests->vaderSentiment) (2.0.0)\r\n",
      "Requirement already satisfied: certifi>=2017.4.17 in /home/yingqing/anaconda3/envs/metis/lib/python3.9/site-packages (from requests->vaderSentiment) (2021.5.30)\r\n",
      "Requirement already satisfied: idna<4,>=2.5 in /home/yingqing/anaconda3/envs/metis/lib/python3.9/site-packages (from requests->vaderSentiment) (3.2)\r\n",
      "Requirement already satisfied: urllib3<1.27,>=1.21.1 in /home/yingqing/anaconda3/envs/metis/lib/python3.9/site-packages (from requests->vaderSentiment) (1.26.6)\r\n"
     ]
    }
   ],
   "source": [
    "# Instatll VADER if you don't have it already\n",
    "!pip install vaderSentiment"
   ]
  },
  {
   "cell_type": "code",
   "execution_count": 4,
   "id": "c0d85702",
   "metadata": {},
   "outputs": [
    {
     "data": {
      "text/plain": [
       "0.4588"
      ]
     },
     "execution_count": 4,
     "metadata": {},
     "output_type": "execute_result"
    }
   ],
   "source": [
    "### BEGIN SOLUTION\n",
    "from vaderSentiment.vaderSentiment import SentimentIntensityAnalyzer\n",
    "my_text = data.OriginalTweet[0]\n",
    "analyzer = SentimentIntensityAnalyzer()\n",
    "score = analyzer.polarity_scores(my_text)\n",
    "sentiment_0 = score['compound']\n",
    "### END SOLUTION\n",
    "sentiment_0"
   ]
  },
  {
   "cell_type": "code",
   "execution_count": 6,
   "id": "7026c32a",
   "metadata": {},
   "outputs": [
    {
     "data": {
      "text/html": [
       "<div>\n",
       "<style scoped>\n",
       "    .dataframe tbody tr th:only-of-type {\n",
       "        vertical-align: middle;\n",
       "    }\n",
       "\n",
       "    .dataframe tbody tr th {\n",
       "        vertical-align: top;\n",
       "    }\n",
       "\n",
       "    .dataframe thead th {\n",
       "        text-align: right;\n",
       "    }\n",
       "</style>\n",
       "<table border=\"1\" class=\"dataframe\">\n",
       "  <thead>\n",
       "    <tr style=\"text-align: right;\">\n",
       "      <th></th>\n",
       "      <th>Unnamed: 0</th>\n",
       "      <th>TweetAt</th>\n",
       "      <th>OriginalTweet</th>\n",
       "      <th>Sentiment</th>\n",
       "      <th>predicted_score</th>\n",
       "    </tr>\n",
       "  </thead>\n",
       "  <tbody>\n",
       "    <tr>\n",
       "      <th>0</th>\n",
       "      <td>1</td>\n",
       "      <td>16-03-2020</td>\n",
       "      <td>advice talk family exchange phone create conta...</td>\n",
       "      <td>Positive</td>\n",
       "      <td>0.4588</td>\n",
       "    </tr>\n",
       "    <tr>\n",
       "      <th>1</th>\n",
       "      <td>2</td>\n",
       "      <td>16-03-2020</td>\n",
       "      <td>give elderly disabled shopping amid covid outb...</td>\n",
       "      <td>Positive</td>\n",
       "      <td>0.0000</td>\n",
       "    </tr>\n",
       "    <tr>\n",
       "      <th>2</th>\n",
       "      <td>5</td>\n",
       "      <td>16-03-2020</td>\n",
       "      <td>news first confirmed covid case came county la...</td>\n",
       "      <td>Positive</td>\n",
       "      <td>0.4939</td>\n",
       "    </tr>\n",
       "    <tr>\n",
       "      <th>3</th>\n",
       "      <td>6</td>\n",
       "      <td>16-03-2020</td>\n",
       "      <td>cashier grocery store prove credibility civics...</td>\n",
       "      <td>Positive</td>\n",
       "      <td>0.0000</td>\n",
       "    </tr>\n",
       "    <tr>\n",
       "      <th>4</th>\n",
       "      <td>7</td>\n",
       "      <td>16-03-2020</td>\n",
       "      <td>supermarket today buy toilet paper</td>\n",
       "      <td>Neutral</td>\n",
       "      <td>0.0000</td>\n",
       "    </tr>\n",
       "  </tbody>\n",
       "</table>\n",
       "</div>"
      ],
      "text/plain": [
       "   Unnamed: 0     TweetAt                                      OriginalTweet  \\\n",
       "0           1  16-03-2020  advice talk family exchange phone create conta...   \n",
       "1           2  16-03-2020  give elderly disabled shopping amid covid outb...   \n",
       "2           5  16-03-2020  news first confirmed covid case came county la...   \n",
       "3           6  16-03-2020  cashier grocery store prove credibility civics...   \n",
       "4           7  16-03-2020                 supermarket today buy toilet paper   \n",
       "\n",
       "  Sentiment  predicted_score  \n",
       "0  Positive           0.4588  \n",
       "1  Positive           0.0000  \n",
       "2  Positive           0.4939  \n",
       "3  Positive           0.0000  \n",
       "4   Neutral           0.0000  "
      ]
     },
     "execution_count": 6,
     "metadata": {},
     "output_type": "execute_result"
    }
   ],
   "source": [
    "data['predicted_score'] = data.OriginalTweet.map(analyzer.polarity_scores).map(lambda x: x.get('compound'))\n",
    "data.head()"
   ]
  },
  {
   "cell_type": "code",
   "execution_count": 43,
   "id": "1c646ad7",
   "metadata": {},
   "outputs": [
    {
     "data": {
      "text/plain": [
       "0.43433345564368175"
      ]
     },
     "execution_count": 43,
     "metadata": {},
     "output_type": "execute_result"
    }
   ],
   "source": [
    "#data.count(data.predicted_score >= 0.05)\n",
    "positive_c = data.apply(lambda x : True\n",
    "            if x.predicted_score >= 0.05 else False, axis = 1)\n",
    "positive_p = len(positive_c[positive_c == True].index)\n",
    "positive_p/data['predicted_score'].count()"
   ]
  },
  {
   "cell_type": "code",
   "execution_count": 44,
   "id": "88debe2b",
   "metadata": {},
   "outputs": [
    {
     "data": {
      "text/plain": [
       "0.3354878771627763"
      ]
     },
     "execution_count": 44,
     "metadata": {},
     "output_type": "execute_result"
    }
   ],
   "source": [
    "negative_c = data.apply(lambda x : True\n",
    "            if x.predicted_score <= -0.05 else False, axis = 1)\n",
    "negative_p = len(negative_c[negative_c == True].index)\n",
    "negative_p/data['predicted_score'].count()"
   ]
  },
  {
   "cell_type": "code",
   "execution_count": 45,
   "id": "5d5604ea",
   "metadata": {},
   "outputs": [
    {
     "data": {
      "text/plain": [
       "0.23017866719354202"
      ]
     },
     "execution_count": 45,
     "metadata": {},
     "output_type": "execute_result"
    }
   ],
   "source": [
    "neutral_p = data['predicted_score'].count() - negative_p -positive_p\n",
    "neutral_p/data['predicted_score'].count()"
   ]
  },
  {
   "cell_type": "code",
   "execution_count": 46,
   "id": "9fd5b516",
   "metadata": {},
   "outputs": [
    {
     "data": {
      "text/plain": [
       "0.43983742132151626"
      ]
     },
     "execution_count": 46,
     "metadata": {},
     "output_type": "execute_result"
    }
   ],
   "source": [
    "positive_xc = data.apply(lambda x : True\n",
    "            if (x.Sentiment == 'Positive' or x.Sentiment == 'Extremely Positive') else False, axis = 1)\n",
    "positive_e = len(positive_xc[positive_xc == True].index)\n",
    "positive_e/data['predicted_score'].count()"
   ]
  },
  {
   "cell_type": "code",
   "execution_count": 47,
   "id": "2e757bd1",
   "metadata": {},
   "outputs": [
    {
     "data": {
      "text/plain": [
       "0.3744107934178216"
      ]
     },
     "execution_count": 47,
     "metadata": {},
     "output_type": "execute_result"
    }
   ],
   "source": [
    "negative_xc = data.apply(lambda x : True\n",
    "            if (x.Sentiment == 'Negative' or x.Sentiment == 'Extremely Negative') else False, axis = 1)\n",
    "negative_e = len(negative_xc[negative_xc == True].index)\n",
    "negative_e/data['predicted_score'].count()"
   ]
  },
  {
   "cell_type": "code",
   "execution_count": 48,
   "id": "46ea022d",
   "metadata": {},
   "outputs": [
    {
     "data": {
      "text/plain": [
       "0.18575178526066216"
      ]
     },
     "execution_count": 48,
     "metadata": {},
     "output_type": "execute_result"
    }
   ],
   "source": [
    "neutral_e = data['Sentiment'].count() - negative_e -positive_e\n",
    "neutral_e/data['predicted_score'].count()"
   ]
  },
  {
   "cell_type": "code",
   "execution_count": null,
   "id": "7ba7a4f3",
   "metadata": {},
   "outputs": [],
   "source": []
  },
  {
   "cell_type": "code",
   "execution_count": 30,
   "id": "8439ad86",
   "metadata": {},
   "outputs": [
    {
     "data": {
      "text/plain": [
       "array(['Positive', 'Neutral', 'Negative', 'Extremely Positive',\n",
       "       'Extremely Negative'], dtype=object)"
      ]
     },
     "execution_count": 30,
     "metadata": {},
     "output_type": "execute_result"
    }
   ],
   "source": [
    "data['Sentiment'].unique()"
   ]
  },
  {
   "cell_type": "code",
   "execution_count": null,
   "id": "6ef52bc7",
   "metadata": {},
   "outputs": [],
   "source": []
  },
  {
   "cell_type": "code",
   "execution_count": null,
   "id": "374f4d8d",
   "metadata": {},
   "outputs": [],
   "source": []
  },
  {
   "cell_type": "code",
   "execution_count": null,
   "id": "10e639d8",
   "metadata": {},
   "outputs": [],
   "source": []
  },
  {
   "cell_type": "code",
   "execution_count": 8,
   "id": "f1f969eb",
   "metadata": {},
   "outputs": [
    {
     "data": {
      "text/plain": [
       "Unnamed: 0                                                     38044\n",
       "TweetAt                                                   11-04-2020\n",
       "OriginalTweet      free free free due current situation covid giv...\n",
       "Sentiment                                         Extremely Positive\n",
       "predicted_score                                               0.9792\n",
       "Name: 30053, dtype: object"
      ]
     },
     "execution_count": 8,
     "metadata": {},
     "output_type": "execute_result"
    }
   ],
   "source": [
    "data.iloc[data.predicted_score.idxmax()]"
   ]
  },
  {
   "cell_type": "code",
   "execution_count": 10,
   "id": "4e230b8a",
   "metadata": {},
   "outputs": [
    {
     "data": {
      "text/plain": [
       "-0.9712"
      ]
     },
     "execution_count": 10,
     "metadata": {},
     "output_type": "execute_result"
    }
   ],
   "source": [
    "### BEGIN SOLUTION\n",
    "data.iloc[data.predicted_score.idxmin()]\n",
    "lowest_sentiment = data.iloc[data.predicted_score.idxmin()]['predicted_score']\n",
    "### END SOLUTION\n",
    "lowest_sentiment"
   ]
  },
  {
   "cell_type": "code",
   "execution_count": null,
   "id": "52daaa9e",
   "metadata": {},
   "outputs": [],
   "source": []
  }
 ],
 "metadata": {
  "kernelspec": {
   "display_name": "Python [conda env:metis] *",
   "language": "python",
   "name": "conda-env-metis-py"
  },
  "language_info": {
   "codemirror_mode": {
    "name": "ipython",
    "version": 3
   },
   "file_extension": ".py",
   "mimetype": "text/x-python",
   "name": "python",
   "nbconvert_exporter": "python",
   "pygments_lexer": "ipython3",
   "version": "3.9.7"
  }
 },
 "nbformat": 4,
 "nbformat_minor": 5
}
